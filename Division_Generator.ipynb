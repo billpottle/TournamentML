{
  "nbformat": 4,
  "nbformat_minor": 0,
  "metadata": {
    "colab": {
      "name": "Division Generator",
      "version": "0.3.2",
      "provenance": [],
      "collapsed_sections": [],
      "toc_visible": true,
      "include_colab_link": true
    },
    "kernelspec": {
      "name": "python3",
      "display_name": "Python 3"
    }
  },
  "cells": [
    {
      "cell_type": "markdown",
      "metadata": {
        "id": "view-in-github",
        "colab_type": "text"
      },
      "source": [
        "<a href=\"https://colab.research.google.com/github/billpottle/TournamentML/blob/master/Division_Generator.ipynb\" target=\"_parent\"><img src=\"https://colab.research.google.com/assets/colab-badge.svg\" alt=\"Open In Colab\"/></a>"
      ]
    },
    {
      "cell_type": "markdown",
      "metadata": {
        "id": "OKS2JyIWE5CO",
        "colab_type": "text"
      },
      "source": [
        "Welcome to the online division generator! To get the excel file or see more instructions, please visit the [github.](https://github.com/billpottle/TournamentML/) \n",
        "\n",
        "Move your mouse over the  [   ] to the left of each line, and then click the triangle to run it. \n",
        "\n",
        "---\n",
        "\n",
        "\n",
        "\n",
        "# STEP 1- Upload your file. It should be named athletes.csv\n"
      ]
    },
    {
      "cell_type": "code",
      "metadata": {
        "id": "mCmbcvHIQ9Rx",
        "colab_type": "code",
        "outputId": "217dec63-e5ed-4235-e5d6-975aaef88561",
        "colab": {
          "resources": {
            "http://localhost:8080/nbextensions/google.colab/files.js": {
              "data": "Ly8gQ29weXJpZ2h0IDIwMTcgR29vZ2xlIExMQwovLwovLyBMaWNlbnNlZCB1bmRlciB0aGUgQXBhY2hlIExpY2Vuc2UsIFZlcnNpb24gMi4wICh0aGUgIkxpY2Vuc2UiKTsKLy8geW91IG1heSBub3QgdXNlIHRoaXMgZmlsZSBleGNlcHQgaW4gY29tcGxpYW5jZSB3aXRoIHRoZSBMaWNlbnNlLgovLyBZb3UgbWF5IG9idGFpbiBhIGNvcHkgb2YgdGhlIExpY2Vuc2UgYXQKLy8KLy8gICAgICBodHRwOi8vd3d3LmFwYWNoZS5vcmcvbGljZW5zZXMvTElDRU5TRS0yLjAKLy8KLy8gVW5sZXNzIHJlcXVpcmVkIGJ5IGFwcGxpY2FibGUgbGF3IG9yIGFncmVlZCB0byBpbiB3cml0aW5nLCBzb2Z0d2FyZQovLyBkaXN0cmlidXRlZCB1bmRlciB0aGUgTGljZW5zZSBpcyBkaXN0cmlidXRlZCBvbiBhbiAiQVMgSVMiIEJBU0lTLAovLyBXSVRIT1VUIFdBUlJBTlRJRVMgT1IgQ09ORElUSU9OUyBPRiBBTlkgS0lORCwgZWl0aGVyIGV4cHJlc3Mgb3IgaW1wbGllZC4KLy8gU2VlIHRoZSBMaWNlbnNlIGZvciB0aGUgc3BlY2lmaWMgbGFuZ3VhZ2UgZ292ZXJuaW5nIHBlcm1pc3Npb25zIGFuZAovLyBsaW1pdGF0aW9ucyB1bmRlciB0aGUgTGljZW5zZS4KCi8qKgogKiBAZmlsZW92ZXJ2aWV3IEhlbHBlcnMgZm9yIGdvb2dsZS5jb2xhYiBQeXRob24gbW9kdWxlLgogKi8KKGZ1bmN0aW9uKHNjb3BlKSB7CmZ1bmN0aW9uIHNwYW4odGV4dCwgc3R5bGVBdHRyaWJ1dGVzID0ge30pIHsKICBjb25zdCBlbGVtZW50ID0gZG9jdW1lbnQuY3JlYXRlRWxlbWVudCgnc3BhbicpOwogIGVsZW1lbnQudGV4dENvbnRlbnQgPSB0ZXh0OwogIGZvciAoY29uc3Qga2V5IG9mIE9iamVjdC5rZXlzKHN0eWxlQXR0cmlidXRlcykpIHsKICAgIGVsZW1lbnQuc3R5bGVba2V5XSA9IHN0eWxlQXR0cmlidXRlc1trZXldOwogIH0KICByZXR1cm4gZWxlbWVudDsKfQoKLy8gTWF4IG51bWJlciBvZiBieXRlcyB3aGljaCB3aWxsIGJlIHVwbG9hZGVkIGF0IGEgdGltZS4KY29uc3QgTUFYX1BBWUxPQURfU0laRSA9IDEwMCAqIDEwMjQ7Ci8vIE1heCBhbW91bnQgb2YgdGltZSB0byBibG9jayB3YWl0aW5nIGZvciB0aGUgdXNlci4KY29uc3QgRklMRV9DSEFOR0VfVElNRU9VVF9NUyA9IDMwICogMTAwMDsKCmZ1bmN0aW9uIF91cGxvYWRGaWxlcyhpbnB1dElkLCBvdXRwdXRJZCkgewogIGNvbnN0IHN0ZXBzID0gdXBsb2FkRmlsZXNTdGVwKGlucHV0SWQsIG91dHB1dElkKTsKICBjb25zdCBvdXRwdXRFbGVtZW50ID0gZG9jdW1lbnQuZ2V0RWxlbWVudEJ5SWQob3V0cHV0SWQpOwogIC8vIENhY2hlIHN0ZXBzIG9uIHRoZSBvdXRwdXRFbGVtZW50IHRvIG1ha2UgaXQgYXZhaWxhYmxlIGZvciB0aGUgbmV4dCBjYWxsCiAgLy8gdG8gdXBsb2FkRmlsZXNDb250aW51ZSBmcm9tIFB5dGhvbi4KICBvdXRwdXRFbGVtZW50LnN0ZXBzID0gc3RlcHM7CgogIHJldHVybiBfdXBsb2FkRmlsZXNDb250aW51ZShvdXRwdXRJZCk7Cn0KCi8vIFRoaXMgaXMgcm91Z2hseSBhbiBhc3luYyBnZW5lcmF0b3IgKG5vdCBzdXBwb3J0ZWQgaW4gdGhlIGJyb3dzZXIgeWV0KSwKLy8gd2hlcmUgdGhlcmUgYXJlIG11bHRpcGxlIGFzeW5jaHJvbm91cyBzdGVwcyBhbmQgdGhlIFB5dGhvbiBzaWRlIGlzIGdvaW5nCi8vIHRvIHBvbGwgZm9yIGNvbXBsZXRpb24gb2YgZWFjaCBzdGVwLgovLyBUaGlzIHVzZXMgYSBQcm9taXNlIHRvIGJsb2NrIHRoZSBweXRob24gc2lkZSBvbiBjb21wbGV0aW9uIG9mIGVhY2ggc3RlcCwKLy8gdGhlbiBwYXNzZXMgdGhlIHJlc3VsdCBvZiB0aGUgcHJldmlvdXMgc3RlcCBhcyB0aGUgaW5wdXQgdG8gdGhlIG5leHQgc3RlcC4KZnVuY3Rpb24gX3VwbG9hZEZpbGVzQ29udGludWUob3V0cHV0SWQpIHsKICBjb25zdCBvdXRwdXRFbGVtZW50ID0gZG9jdW1lbnQuZ2V0RWxlbWVudEJ5SWQob3V0cHV0SWQpOwogIGNvbnN0IHN0ZXBzID0gb3V0cHV0RWxlbWVudC5zdGVwczsKCiAgY29uc3QgbmV4dCA9IHN0ZXBzLm5leHQob3V0cHV0RWxlbWVudC5sYXN0UHJvbWlzZVZhbHVlKTsKICByZXR1cm4gUHJvbWlzZS5yZXNvbHZlKG5leHQudmFsdWUucHJvbWlzZSkudGhlbigodmFsdWUpID0+IHsKICAgIC8vIENhY2hlIHRoZSBsYXN0IHByb21pc2UgdmFsdWUgdG8gbWFrZSBpdCBhdmFpbGFibGUgdG8gdGhlIG5leHQKICAgIC8vIHN0ZXAgb2YgdGhlIGdlbmVyYXRvci4KICAgIG91dHB1dEVsZW1lbnQubGFzdFByb21pc2VWYWx1ZSA9IHZhbHVlOwogICAgcmV0dXJuIG5leHQudmFsdWUucmVzcG9uc2U7CiAgfSk7Cn0KCi8qKgogKiBHZW5lcmF0b3IgZnVuY3Rpb24gd2hpY2ggaXMgY2FsbGVkIGJldHdlZW4gZWFjaCBhc3luYyBzdGVwIG9mIHRoZSB1cGxvYWQKICogcHJvY2Vzcy4KICogQHBhcmFtIHtzdHJpbmd9IGlucHV0SWQgRWxlbWVudCBJRCBvZiB0aGUgaW5wdXQgZmlsZSBwaWNrZXIgZWxlbWVudC4KICogQHBhcmFtIHtzdHJpbmd9IG91dHB1dElkIEVsZW1lbnQgSUQgb2YgdGhlIG91dHB1dCBkaXNwbGF5LgogKiBAcmV0dXJuIHshSXRlcmFibGU8IU9iamVjdD59IEl0ZXJhYmxlIG9mIG5leHQgc3RlcHMuCiAqLwpmdW5jdGlvbiogdXBsb2FkRmlsZXNTdGVwKGlucHV0SWQsIG91dHB1dElkKSB7CiAgY29uc3QgaW5wdXRFbGVtZW50ID0gZG9jdW1lbnQuZ2V0RWxlbWVudEJ5SWQoaW5wdXRJZCk7CiAgaW5wdXRFbGVtZW50LmRpc2FibGVkID0gZmFsc2U7CgogIGNvbnN0IG91dHB1dEVsZW1lbnQgPSBkb2N1bWVudC5nZXRFbGVtZW50QnlJZChvdXRwdXRJZCk7CiAgb3V0cHV0RWxlbWVudC5pbm5lckhUTUwgPSAnJzsKCiAgY29uc3QgcGlja2VkUHJvbWlzZSA9IG5ldyBQcm9taXNlKChyZXNvbHZlKSA9PiB7CiAgICBpbnB1dEVsZW1lbnQuYWRkRXZlbnRMaXN0ZW5lcignY2hhbmdlJywgKGUpID0+IHsKICAgICAgcmVzb2x2ZShlLnRhcmdldC5maWxlcyk7CiAgICB9KTsKICB9KTsKCiAgY29uc3QgY2FuY2VsID0gZG9jdW1lbnQuY3JlYXRlRWxlbWVudCgnYnV0dG9uJyk7CiAgaW5wdXRFbGVtZW50LnBhcmVudEVsZW1lbnQuYXBwZW5kQ2hpbGQoY2FuY2VsKTsKICBjYW5jZWwudGV4dENvbnRlbnQgPSAnQ2FuY2VsIHVwbG9hZCc7CiAgY29uc3QgY2FuY2VsUHJvbWlzZSA9IG5ldyBQcm9taXNlKChyZXNvbHZlKSA9PiB7CiAgICBjYW5jZWwub25jbGljayA9ICgpID0+IHsKICAgICAgcmVzb2x2ZShudWxsKTsKICAgIH07CiAgfSk7CgogIC8vIENhbmNlbCB1cGxvYWQgaWYgdXNlciBoYXNuJ3QgcGlja2VkIGFueXRoaW5nIGluIHRpbWVvdXQuCiAgY29uc3QgdGltZW91dFByb21pc2UgPSBuZXcgUHJvbWlzZSgocmVzb2x2ZSkgPT4gewogICAgc2V0VGltZW91dCgoKSA9PiB7CiAgICAgIHJlc29sdmUobnVsbCk7CiAgICB9LCBGSUxFX0NIQU5HRV9USU1FT1VUX01TKTsKICB9KTsKCiAgLy8gV2FpdCBmb3IgdGhlIHVzZXIgdG8gcGljayB0aGUgZmlsZXMuCiAgY29uc3QgZmlsZXMgPSB5aWVsZCB7CiAgICBwcm9taXNlOiBQcm9taXNlLnJhY2UoW3BpY2tlZFByb21pc2UsIHRpbWVvdXRQcm9taXNlLCBjYW5jZWxQcm9taXNlXSksCiAgICByZXNwb25zZTogewogICAgICBhY3Rpb246ICdzdGFydGluZycsCiAgICB9CiAgfTsKCiAgaWYgKCFmaWxlcykgewogICAgcmV0dXJuIHsKICAgICAgcmVzcG9uc2U6IHsKICAgICAgICBhY3Rpb246ICdjb21wbGV0ZScsCiAgICAgIH0KICAgIH07CiAgfQoKICBjYW5jZWwucmVtb3ZlKCk7CgogIC8vIERpc2FibGUgdGhlIGlucHV0IGVsZW1lbnQgc2luY2UgZnVydGhlciBwaWNrcyBhcmUgbm90IGFsbG93ZWQuCiAgaW5wdXRFbGVtZW50LmRpc2FibGVkID0gdHJ1ZTsKCiAgZm9yIChjb25zdCBmaWxlIG9mIGZpbGVzKSB7CiAgICBjb25zdCBsaSA9IGRvY3VtZW50LmNyZWF0ZUVsZW1lbnQoJ2xpJyk7CiAgICBsaS5hcHBlbmQoc3BhbihmaWxlLm5hbWUsIHtmb250V2VpZ2h0OiAnYm9sZCd9KSk7CiAgICBsaS5hcHBlbmQoc3BhbigKICAgICAgICBgKCR7ZmlsZS50eXBlIHx8ICduL2EnfSkgLSAke2ZpbGUuc2l6ZX0gYnl0ZXMsIGAgKwogICAgICAgIGBsYXN0IG1vZGlmaWVkOiAkewogICAgICAgICAgICBmaWxlLmxhc3RNb2RpZmllZERhdGUgPyBmaWxlLmxhc3RNb2RpZmllZERhdGUudG9Mb2NhbGVEYXRlU3RyaW5nKCkgOgogICAgICAgICAgICAgICAgICAgICAgICAgICAgICAgICAgICAnbi9hJ30gLSBgKSk7CiAgICBjb25zdCBwZXJjZW50ID0gc3BhbignMCUgZG9uZScpOwogICAgbGkuYXBwZW5kQ2hpbGQocGVyY2VudCk7CgogICAgb3V0cHV0RWxlbWVudC5hcHBlbmRDaGlsZChsaSk7CgogICAgY29uc3QgZmlsZURhdGFQcm9taXNlID0gbmV3IFByb21pc2UoKHJlc29sdmUpID0+IHsKICAgICAgY29uc3QgcmVhZGVyID0gbmV3IEZpbGVSZWFkZXIoKTsKICAgICAgcmVhZGVyLm9ubG9hZCA9IChlKSA9PiB7CiAgICAgICAgcmVzb2x2ZShlLnRhcmdldC5yZXN1bHQpOwogICAgICB9OwogICAgICByZWFkZXIucmVhZEFzQXJyYXlCdWZmZXIoZmlsZSk7CiAgICB9KTsKICAgIC8vIFdhaXQgZm9yIHRoZSBkYXRhIHRvIGJlIHJlYWR5LgogICAgbGV0IGZpbGVEYXRhID0geWllbGQgewogICAgICBwcm9taXNlOiBmaWxlRGF0YVByb21pc2UsCiAgICAgIHJlc3BvbnNlOiB7CiAgICAgICAgYWN0aW9uOiAnY29udGludWUnLAogICAgICB9CiAgICB9OwoKICAgIC8vIFVzZSBhIGNodW5rZWQgc2VuZGluZyB0byBhdm9pZCBtZXNzYWdlIHNpemUgbGltaXRzLiBTZWUgYi82MjExNTY2MC4KICAgIGxldCBwb3NpdGlvbiA9IDA7CiAgICB3aGlsZSAocG9zaXRpb24gPCBmaWxlRGF0YS5ieXRlTGVuZ3RoKSB7CiAgICAgIGNvbnN0IGxlbmd0aCA9IE1hdGgubWluKGZpbGVEYXRhLmJ5dGVMZW5ndGggLSBwb3NpdGlvbiwgTUFYX1BBWUxPQURfU0laRSk7CiAgICAgIGNvbnN0IGNodW5rID0gbmV3IFVpbnQ4QXJyYXkoZmlsZURhdGEsIHBvc2l0aW9uLCBsZW5ndGgpOwogICAgICBwb3NpdGlvbiArPSBsZW5ndGg7CgogICAgICBjb25zdCBiYXNlNjQgPSBidG9hKFN0cmluZy5mcm9tQ2hhckNvZGUuYXBwbHkobnVsbCwgY2h1bmspKTsKICAgICAgeWllbGQgewogICAgICAgIHJlc3BvbnNlOiB7CiAgICAgICAgICBhY3Rpb246ICdhcHBlbmQnLAogICAgICAgICAgZmlsZTogZmlsZS5uYW1lLAogICAgICAgICAgZGF0YTogYmFzZTY0LAogICAgICAgIH0sCiAgICAgIH07CiAgICAgIHBlcmNlbnQudGV4dENvbnRlbnQgPQogICAgICAgICAgYCR7TWF0aC5yb3VuZCgocG9zaXRpb24gLyBmaWxlRGF0YS5ieXRlTGVuZ3RoKSAqIDEwMCl9JSBkb25lYDsKICAgIH0KICB9CgogIC8vIEFsbCBkb25lLgogIHlpZWxkIHsKICAgIHJlc3BvbnNlOiB7CiAgICAgIGFjdGlvbjogJ2NvbXBsZXRlJywKICAgIH0KICB9Owp9CgpzY29wZS5nb29nbGUgPSBzY29wZS5nb29nbGUgfHwge307CnNjb3BlLmdvb2dsZS5jb2xhYiA9IHNjb3BlLmdvb2dsZS5jb2xhYiB8fCB7fTsKc2NvcGUuZ29vZ2xlLmNvbGFiLl9maWxlcyA9IHsKICBfdXBsb2FkRmlsZXMsCiAgX3VwbG9hZEZpbGVzQ29udGludWUsCn07Cn0pKHNlbGYpOwo=",
              "ok": true,
              "headers": [
                [
                  "content-type",
                  "application/javascript"
                ]
              ],
              "status": 200,
              "status_text": ""
            }
          },
          "base_uri": "https://localhost:8080/",
          "height": 76
        }
      },
      "source": [
        "%reset -f\n",
        "from google.colab import files\n",
        "uploaded = files.upload()"
      ],
      "execution_count": 0,
      "outputs": [
        {
          "output_type": "display_data",
          "data": {
            "text/html": [
              "\n",
              "     <input type=\"file\" id=\"files-6eb86b54-1077-493c-9a77-9b06e521cd0f\" name=\"files[]\" multiple disabled />\n",
              "     <output id=\"result-6eb86b54-1077-493c-9a77-9b06e521cd0f\">\n",
              "      Upload widget is only available when the cell has been executed in the\n",
              "      current browser session. Please rerun this cell to enable.\n",
              "      </output>\n",
              "      <script src=\"/nbextensions/google.colab/files.js\"></script> "
            ],
            "text/plain": [
              "<IPython.core.display.HTML object>"
            ]
          },
          "metadata": {
            "tags": []
          }
        },
        {
          "output_type": "stream",
          "text": [
            "Saving athletes.csv to athletes.csv\n"
          ],
          "name": "stdout"
        }
      ]
    },
    {
      "cell_type": "markdown",
      "metadata": {
        "id": "xo17UFtNGRQs",
        "colab_type": "text"
      },
      "source": [
        "# **STEP 2** -Click the next triangle to run the entire analysis. \n",
        "\n",
        "\n",
        "\n",
        "*  Enter the number of divisions you want in the k variable. It's usually good to have on average 3-4 people per division.  For instance 150 athletes divided by 3 per division = 50 divisions. You can also set based on how many medals you have. \n",
        "\n",
        "*  You will download a file called output.csv and your input data will be deleted for privacy reasons.\n",
        "\n",
        "* Alternatively, if you would like more insight into your data or this model's code, you may click the individual steps below. \n",
        "\n",
        "---\n",
        "\n"
      ]
    },
    {
      "cell_type": "markdown",
      "metadata": {
        "id": "7pa4lrniQOHq",
        "colab_type": "text"
      },
      "source": [
        ""
      ]
    },
    {
      "cell_type": "code",
      "metadata": {
        "id": "eKv97wfqQ7zB",
        "colab_type": "code",
        "outputId": "19e02481-2523-4453-c13b-dc0c8e573f22",
        "cellView": "both",
        "colab": {
          "base_uri": "https://localhost:8080/",
          "height": 215
        }
      },
      "source": [
        "\n",
        "import math\n",
        "import pandas as pd\n",
        "import io\n",
        "from matplotlib import pyplot as plt\n",
        "import numpy as np\n",
        "import numpy.linalg as nla\n",
        "import seaborn as sns\n",
        "import altair as alt\n",
        "import re\n",
        "import pdb  # for Python debugger\n",
        "import sys\n",
        "from os.path import join\n",
        "\n",
        "\n",
        "athlete_data = pd.read_csv(io.StringIO(uploaded['athletes.csv'].decode('utf-8')))\n",
        "\n",
        "# Set the output display to have one digit for decimal places and limit it to\n",
        "# printing 15 rows.\n",
        "np.set_printoptions(precision=2)\n",
        "pd.options.display.float_format = '{:.2f}'.format\n",
        "pd.options.display.max_rows = 15\n",
        "\n",
        "\n",
        "\n",
        "\n",
        "\n",
        "# We can rename the columns.\n",
        "athlete_data.columns = ['Name', 'Weight', 'School', 'Belt', 'Age', 'Gender']\n",
        "\n",
        "\n",
        "\n",
        "# Save the original column names\n",
        "original_cols = athlete_data.columns.values\n",
        "\n",
        "# Make data numeric values\n",
        "athlete_data[[\"Weight\", \"Belt\", \"Age\", \"Gender\"]] = athlete_data[[\"Weight\", \"Belt\", \"Age\", \"Gender\"]].apply(pd.to_numeric)\n",
        "\n",
        "# Name and school aren't used in clustering model. \n",
        "athlete_data_toCluster = athlete_data.drop(columns =[\"Name\", \"School\"])\n",
        "\n",
        "#Define the similarity function for 2 athletes. \n",
        "def getSimilarity(obj1, obj2):\n",
        "  len1 = len(obj1.index)\n",
        "  len2 = len(obj2.index)\n",
        "  if not (len1 == len2):\n",
        "    print (\"Error: Compared objects must have same number of features.\")\n",
        "    sys.exit()\n",
        "    return 0\n",
        "  else:\n",
        "    similarity = obj1 - obj2\n",
        "    similarity = np.sum((similarity**2.0) / 10.0)\n",
        "    similarity = 1 - math.sqrt(similarity)\n",
        "    return similarity\n",
        "  \n",
        "  \n",
        " #Model functions from Google's example. \n",
        "def dfSimilarity(df, centroids):\n",
        "  ### dfSimilarity = Calculate similarities for dataframe input\n",
        "  ### We need to calculate ||a-b||^2 = |a|^2 + |b|^2 - 2*|a|*|b|\n",
        "  ### Implement this with matrix operations\n",
        "  ### See the Appendix for further explanation\n",
        "  numPoints = len(df.index)\n",
        "  numCentroids = len(centroids.index)\n",
        "  ## Strictly speaking, we don't need to calculate the norm of points\n",
        "  # because it adds a constant bias to distances\n",
        "  # But calculating it so that the similarity doesn't go negative\n",
        "  # And that we expect similarities in [0,1] which aids debugging\n",
        "  pointNorms = np.square(nla.norm(df, axis=1))\n",
        "  pointNorms = np.reshape(pointNorms, [numPoints, 1])\n",
        "  ## Calculate the norm of centroids\n",
        "  centroidNorms = np.square(nla.norm(centroids, axis=1))\n",
        "  centroidNorms = np.reshape(centroidNorms, (1, numCentroids))\n",
        "  ## Calculate |a|^2 + |b|^2 - 2*|a|*|b|\n",
        "  similarities = pointNorms + centroidNorms - 2.0 * np.dot(\n",
        "      df, np.transpose(centroids))\n",
        "  # Divide by the number of features\n",
        "  # Which is 10 because the one-hot encoding means the \"Maker\" and \"Bean\" are\n",
        "  # weighted twice\n",
        "  similarities = similarities / 10.0\n",
        "  # numerical artifacts lead to negligible but negative values that go to NaN on the root\n",
        "  similarities = similarities.clip(min=0.0)\n",
        "  # Square root since it's ||a-b||^2\n",
        "  similarities = np.sqrt(similarities)\n",
        "  return similarities\n",
        "\n",
        "\n",
        "def initCentroids(df, k, feature_cols):\n",
        "  # Pick 'k' examples are random to serve as initial centroids\n",
        "  limit = len(df.index)\n",
        "  centroids_key = np.random.randint(0, limit - 1, k)\n",
        "  centroids = df.loc[centroids_key, feature_cols].copy(deep=True)\n",
        "  # the indexes get copied over so reset them\n",
        "  centroids.reset_index(drop=True, inplace=True)\n",
        "  return centroids\n",
        "\n",
        "\n",
        "def pt2centroid(df, centroids, feature_cols):\n",
        "  ### Calculate similarities between all points and centroids\n",
        "  ### And assign points to the closest centroid + save that distance\n",
        "  numCentroids = len(centroids.index)\n",
        "  numExamples = len(df.index)\n",
        "  # dfSimilarity = Calculate similarities for dataframe input\n",
        "  dist = dfSimilarity(df.loc[:, feature_cols], centroids.loc[:, feature_cols])\n",
        "  df.loc[:, 'centroid'] = np.argmin(dist, axis=1)  # closest centroid\n",
        "  df.loc[:, 'pt2centroid'] = np.min(dist, axis=1)  # minimum distance\n",
        "  return df\n",
        "\n",
        "\n",
        "def recomputeCentroids(df, centroids, feature_cols):\n",
        "  ### For every centroid, recompute it as an average of the points\n",
        "  ### assigned to it\n",
        "  numCentroids = len(centroids.index)\n",
        "  for cen in range(numCentroids):\n",
        "    dfSubset = df.loc[df['centroid'] == cen,\n",
        "                      feature_cols]  # all points for centroid\n",
        "    if not (dfSubset.empty):  # if there are points assigned to the centroid\n",
        "      clusterAvg = np.sum(dfSubset) / len(dfSubset.index)\n",
        "      centroids.loc[cen] = clusterAvg\n",
        "  return centroids\n",
        "\n",
        "\n",
        "def kmeans(df, k, feature_cols, verbose):\n",
        "  flagConvergence = False\n",
        "  maxIter = 100\n",
        "  iter = 0  # ensure kmeans doesn't run for ever\n",
        "  centroids = initCentroids(df, k, feature_cols)\n",
        "  while not (flagConvergence):\n",
        "    iter += 1\n",
        "    #Save old mapping of points to centroids\n",
        "    oldMapping = df['centroid'].copy(deep=True)\n",
        "    # Perform k-means\n",
        "    df = pt2centroid(df, centroids, feature_cols)\n",
        "    centroids = recomputeCentroids(df, centroids, feature_cols)\n",
        "    # Check convergence by comparing [oldMapping, newMapping]\n",
        "    newMapping = df['centroid']\n",
        "    flagConvergence = all(oldMapping == newMapping)\n",
        "    if verbose == 1:\n",
        "      print('Total distance:' + str(np.sum(df['pt2centroid'])))\n",
        "    if (iter > maxIter):\n",
        "      print('k-means did not converge! Reached maximum iteration limit of ' \\\n",
        "            + str(maxIter) + '.')\n",
        "      sys.exit()\n",
        "      return\n",
        "  print('k-means converged for ' + str(k) + ' clusters' + \\\n",
        "        ' after ' + str(iter) + ' iterations!')\n",
        "  return [df, centroids]\n",
        "\n",
        "\n",
        "k = 40  #@param\n",
        "\n",
        "feature_cols = athlete_data_toCluster.columns.values  # save original columns\n",
        "# initialize every point to an impossible value, the k+1 cluster\n",
        "athlete_data_toCluster['centroid'] = k\n",
        "# init the point to centroid distance to an impossible value \"2\" (>1)\n",
        "athlete_data_toCluster['pt2centroid'] = 2\n",
        "[athlete_data_toCluster, centroids] = kmeans(athlete_data_toCluster, k, feature_cols, 1)\n",
        "print(\"Data for the first few athletess, with 'centroid' and 'pt2centroid' on\"\n",
        "      ' the extreme right:')\n",
        "athlete_data_toCluster\n",
        "\n",
        "\n",
        "#Add columns back in\n",
        "athlete_data_toCluster['Name'] = athlete_data[\"Name\"]\n",
        "athlete_data_toCluster['School'] = athlete_data[\"School\"]\n",
        "\n",
        "#download file\n",
        "from google.colab import files\n",
        "athlete_data_toCluster.to_csv('output.csv') \n",
        "files.download('output.csv')\n",
        "\n",
        "#remove original upload\n",
        "!rm athletes.csv\n",
        "!rm output.csv\n"
      ],
      "execution_count": 0,
      "outputs": [
        {
          "output_type": "stream",
          "text": [
            "Total distance:94.52809874086208\n",
            "Total distance:83.36932632670354\n",
            "Total distance:71.56539976991937\n",
            "Total distance:67.13750503654074\n",
            "Total distance:66.0093716679468\n",
            "Total distance:63.65934664701219\n",
            "Total distance:61.616377628648884\n",
            "Total distance:58.327921799535616\n",
            "Total distance:59.42939308158201\n",
            "k-means converged for 40 clusters after 9 iterations!\n",
            "Data for the first few athletess, with 'centroid' and 'pt2centroid' on the extreme right:\n"
          ],
          "name": "stdout"
        }
      ]
    },
    {
      "cell_type": "markdown",
      "metadata": {
        "id": "PY2I5bgJQ7i4",
        "colab_type": "text"
      },
      "source": [
        "OPTIONAL - Step 2 above will give you the final result you need. However, the following step by step instructions will help you learn more about your particular data and how the model works. Make sure to click on the individual cells in order. "
      ]
    },
    {
      "cell_type": "code",
      "metadata": {
        "id": "snwK4VoHBaa7",
        "colab_type": "code",
        "outputId": "8320f01f-7071-439a-c581-4822a4493a9f",
        "cellView": "code",
        "colab": {
          "base_uri": "https://localhost:8080/",
          "height": 243
        }
      },
      "source": [
        "#@title Load data and perform initial cleaning\n",
        "\n",
        "import math\n",
        "\n",
        "from matplotlib import pyplot as plt\n",
        "import numpy as np\n",
        "import numpy.linalg as nla\n",
        "import pandas as pd\n",
        "import seaborn as sns\n",
        "import altair as alt\n",
        "import re\n",
        "import pdb  # for Python debugger\n",
        "import sys\n",
        "from os.path import join\n",
        "\n",
        "# Set the output display to have one digit for decimal places and limit it to\n",
        "# printing 15 rows.\n",
        "np.set_printoptions(precision=2)\n",
        "pd.options.display.float_format = '{:.2f}'.format\n",
        "pd.options.display.max_rows = 15\n",
        "\n",
        "\n",
        "# We can rename the columns.\n",
        "athlete_data.columns = ['Name', 'Weight', 'School', 'Belt', 'Age', 'Gender']\n",
        "\n",
        "\n",
        "# Save the original column names\n",
        "original_cols = athlete_data.columns.values\n",
        "\n",
        "#Make the data have values that are numbers, not strings. \n",
        "athlete_data[[\"Weight\", \"Belt\", \"Age\", \"Gender\"]] = athlete_data[[\"Weight\", \"Belt\", \"Age\", \"Gender\"]].apply(pd.to_numeric)\n",
        "\n",
        "#Create a new dataframe that doesn't use Name or School to determine matchups. \n",
        "athlete_data_toCluster = athlete_data.drop(columns =[\"Name\", \"School\"])\n",
        "\n",
        "print(\"First few rows of your data\")\n",
        "athlete_data.head()\n",
        "\n"
      ],
      "execution_count": 0,
      "outputs": [
        {
          "output_type": "error",
          "ename": "NameError",
          "evalue": "ignored",
          "traceback": [
            "\u001b[0;31m---------------------------------------------------------------------------\u001b[0m",
            "\u001b[0;31mNameError\u001b[0m                                 Traceback (most recent call last)",
            "\u001b[0;32m<ipython-input-22-532d82e2f2b9>\u001b[0m in \u001b[0;36m<module>\u001b[0;34m()\u001b[0m\n\u001b[1;32m     24\u001b[0m \u001b[0;34m\u001b[0m\u001b[0m\n\u001b[1;32m     25\u001b[0m \u001b[0;31m# We can rename the columns.\u001b[0m\u001b[0;34m\u001b[0m\u001b[0;34m\u001b[0m\u001b[0;34m\u001b[0m\u001b[0m\n\u001b[0;32m---> 26\u001b[0;31m \u001b[0mathlete_data\u001b[0m\u001b[0;34m.\u001b[0m\u001b[0mcolumns\u001b[0m \u001b[0;34m=\u001b[0m \u001b[0;34m[\u001b[0m\u001b[0;34m'Name'\u001b[0m\u001b[0;34m,\u001b[0m \u001b[0;34m'Weight'\u001b[0m\u001b[0;34m,\u001b[0m \u001b[0;34m'School'\u001b[0m\u001b[0;34m,\u001b[0m \u001b[0;34m'Belt'\u001b[0m\u001b[0;34m,\u001b[0m \u001b[0;34m'Age'\u001b[0m\u001b[0;34m,\u001b[0m \u001b[0;34m'Gender'\u001b[0m\u001b[0;34m]\u001b[0m\u001b[0;34m\u001b[0m\u001b[0;34m\u001b[0m\u001b[0m\n\u001b[0m\u001b[1;32m     27\u001b[0m \u001b[0;34m\u001b[0m\u001b[0m\n\u001b[1;32m     28\u001b[0m \u001b[0;34m\u001b[0m\u001b[0m\n",
            "\u001b[0;31mNameError\u001b[0m: name 'athlete_data' is not defined"
          ]
        }
      ]
    },
    {
      "cell_type": "markdown",
      "metadata": {
        "id": "iXryE_0IRRz5",
        "colab_type": "text"
      },
      "source": [
        "Check the distribution of values in your data (Optional). Remove the # before any one line of code to plot that value. "
      ]
    },
    {
      "cell_type": "code",
      "metadata": {
        "id": "TI4N-mYzTU4z",
        "colab_type": "code",
        "outputId": "85edad8d-0fd9-43dd-de31-3cd0ae0e81e2",
        "colab": {
          "base_uri": "https://localhost:8080/",
          "height": 301
        }
      },
      "source": [
        "\n",
        "sns.distplot(athlete_data['Age'])\n",
        "#sns.distplot(athlete_data['Gender'])\n",
        "#sns.distplot(athlete_data['Weight'])\n",
        "#sns.distplot(athlete_data['Belt'])\n"
      ],
      "execution_count": 0,
      "outputs": [
        {
          "output_type": "execute_result",
          "data": {
            "text/plain": [
              "<matplotlib.axes._subplots.AxesSubplot at 0x7f794ac9c208>"
            ]
          },
          "metadata": {
            "tags": []
          },
          "execution_count": 6
        },
        {
          "output_type": "display_data",
          "data": {
            "image/png": "[encoded data removed]",
            "text/plain": [
              "<Figure size 432x288 with 1 Axes>"
            ]
          },
          "metadata": {
            "tags": []
          }
        }
      ]
    },
    {
      "cell_type": "markdown",
      "metadata": {
        "id": "mqdXdOs9R0RQ",
        "colab_type": "text"
      },
      "source": [
        "Imagine that each athlete is a coordinate in 4 dimensional space, where the axes are weight, belt, gender, and age. This function simply finds the difference between any two points. "
      ]
    },
    {
      "cell_type": "code",
      "metadata": {
        "id": "SoYIYrCCTZED",
        "colab_type": "code",
        "colab": {}
      },
      "source": [
        "def getSimilarity(obj1, obj2):\n",
        "  len1 = len(obj1.index)\n",
        "  len2 = len(obj2.index)\n",
        "  if not (len1 == len2):\n",
        "    print (\"Error: Compared objects must have same number of features.\")\n",
        "    sys.exit()\n",
        "    return 0\n",
        "  else:\n",
        "    similarity = obj1 - obj2\n",
        "    similarity = np.sum((similarity**2.0) / 10.0)\n",
        "    similarity = 1 - math.sqrt(similarity)\n",
        "    return similarity"
      ],
      "execution_count": 0,
      "outputs": []
    },
    {
      "cell_type": "markdown",
      "metadata": {
        "id": "sjwBe3GuSQuz",
        "colab_type": "text"
      },
      "source": [
        "To check if this model gives distances you think are correct, try entering any two athlete ids (the row number in the athletes.csv file) to see the calculated difference between them. "
      ]
    },
    {
      "cell_type": "code",
      "metadata": {
        "id": "i4QlAw88Yjkj",
        "colab_type": "code",
        "outputId": "0ad7555f-69cd-48cb-adf5-08e16d4c6adf",
        "colab": {
          "base_uri": "https://localhost:8080/",
          "height": 179
        }
      },
      "source": [
        "athlete1 = 157  #@param\n",
        "athlete2 = 160 #@param\n",
        "\n",
        "\n",
        "temp = getSimilarity(athlete_data_toCluster.loc[athlete1], athlete_data_toCluster.loc[athlete2])\n",
        "print(\"Difference =\", temp, \".................\", athlete_data_toCluster.loc[athlete1], \".................\", athlete_data_toCluster.loc[athlete2])  \n"
      ],
      "execution_count": 0,
      "outputs": [
        {
          "output_type": "stream",
          "text": [
            "Difference = -0.70293863659264 ................. Weight   44.00\n",
            "Belt      0.00\n",
            "Age       5.00\n",
            "Gender    1.00\n",
            "Name: 157, dtype: float64 ................. Weight   49.00\n",
            "Belt      0.00\n",
            "Age       7.00\n",
            "Gender    1.00\n",
            "Name: 160, dtype: float64\n"
          ],
          "name": "stdout"
        }
      ]
    },
    {
      "cell_type": "markdown",
      "metadata": {
        "id": "bW8joGJESkW0",
        "colab_type": "text"
      },
      "source": [
        "Run this cell to set up the key functions for the k-means algorithm. "
      ]
    },
    {
      "cell_type": "code",
      "metadata": {
        "id": "0CfUvWVIaPgR",
        "colab_type": "code",
        "colab": {}
      },
      "source": [
        "# Code taken from Google Colab tutorial on clustering\n",
        "# https://developers.google.com/machine-learning/clustering/\n",
        "def dfSimilarity(df, centroids):\n",
        "  ### dfSimilarity = Calculate similarities for dataframe input\n",
        "  ### We need to calculate ||a-b||^2 = |a|^2 + |b|^2 - 2*|a|*|b|\n",
        "  ### Implement this with matrix operations\n",
        "  ### See the Appendix for further explanation\n",
        "  numPoints = len(df.index)\n",
        "  numCentroids = len(centroids.index)\n",
        "  ## Strictly speaking, we don't need to calculate the norm of points\n",
        "  # because it adds a constant bias to distances\n",
        "  # But calculating it so that the similarity doesn't go negative\n",
        "  # And that we expect similarities in [0,1] which aids debugging\n",
        "  pointNorms = np.square(nla.norm(df, axis=1))\n",
        "  pointNorms = np.reshape(pointNorms, [numPoints, 1])\n",
        "  ## Calculate the norm of centroids\n",
        "  centroidNorms = np.square(nla.norm(centroids, axis=1))\n",
        "  centroidNorms = np.reshape(centroidNorms, (1, numCentroids))\n",
        "  ## Calculate |a|^2 + |b|^2 - 2*|a|*|b|\n",
        "  similarities = pointNorms + centroidNorms - 2.0 * np.dot(\n",
        "      df, np.transpose(centroids))\n",
        "  # Divide by the number of features\n",
        "  # Which is 10 because the one-hot encoding means the \"Maker\" and \"Bean\" are\n",
        "  # weighted twice\n",
        "  similarities = similarities / 10.0\n",
        "  # numerical artifacts lead to negligible but negative values that go to NaN on the root\n",
        "  similarities = similarities.clip(min=0.0)\n",
        "  # Square root since it's ||a-b||^2\n",
        "  similarities = np.sqrt(similarities)\n",
        "  return similarities\n",
        "\n",
        "\n",
        "def initCentroids(df, k, feature_cols):\n",
        "  # Pick 'k' examples are random to serve as initial centroids\n",
        "  limit = len(df.index)\n",
        "  centroids_key = np.random.randint(0, limit - 1, k)\n",
        "  centroids = df.loc[centroids_key, feature_cols].copy(deep=True)\n",
        "  # the indexes get copied over so reset them\n",
        "  centroids.reset_index(drop=True, inplace=True)\n",
        "  return centroids\n",
        "\n",
        "\n",
        "def pt2centroid(df, centroids, feature_cols):\n",
        "  ### Calculate similarities between all points and centroids\n",
        "  ### And assign points to the closest centroid + save that distance\n",
        "  numCentroids = len(centroids.index)\n",
        "  numExamples = len(df.index)\n",
        "  # dfSimilarity = Calculate similarities for dataframe input\n",
        "  dist = dfSimilarity(df.loc[:, feature_cols], centroids.loc[:, feature_cols])\n",
        "  df.loc[:, 'centroid'] = np.argmin(dist, axis=1)  # closest centroid\n",
        "  df.loc[:, 'pt2centroid'] = np.min(dist, axis=1)  # minimum distance\n",
        "  return df\n",
        "\n",
        "\n",
        "def recomputeCentroids(df, centroids, feature_cols):\n",
        "  ### For every centroid, recompute it as an average of the points\n",
        "  ### assigned to it\n",
        "  numCentroids = len(centroids.index)\n",
        "  for cen in range(numCentroids):\n",
        "    dfSubset = df.loc[df['centroid'] == cen,\n",
        "                      feature_cols]  # all points for centroid\n",
        "    if not (dfSubset.empty):  # if there are points assigned to the centroid\n",
        "      clusterAvg = np.sum(dfSubset) / len(dfSubset.index)\n",
        "      centroids.loc[cen] = clusterAvg\n",
        "  return centroids\n",
        "\n",
        "\n",
        "def kmeans(df, k, feature_cols, verbose):\n",
        "  flagConvergence = False\n",
        "  maxIter = 100\n",
        "  iter = 0  # ensure kmeans doesn't run for ever\n",
        "  centroids = initCentroids(df, k, feature_cols)\n",
        "  while not (flagConvergence):\n",
        "    iter += 1\n",
        "    #Save old mapping of points to centroids\n",
        "    oldMapping = df['centroid'].copy(deep=True)\n",
        "    # Perform k-means\n",
        "    df = pt2centroid(df, centroids, feature_cols)\n",
        "    centroids = recomputeCentroids(df, centroids, feature_cols)\n",
        "    # Check convergence by comparing [oldMapping, newMapping]\n",
        "    newMapping = df['centroid']\n",
        "    flagConvergence = all(oldMapping == newMapping)\n",
        "    if verbose == 1:\n",
        "      print('Total distance:' + str(np.sum(df['pt2centroid'])))\n",
        "    if (iter > maxIter):\n",
        "      print('k-means did not converge! Reached maximum iteration limit of ' \\\n",
        "            + str(maxIter) + '.')\n",
        "      sys.exit()\n",
        "      return\n",
        "  print('k-means converged for ' + str(k) + ' clusters' + \\\n",
        "        ' after ' + str(iter) + ' iterations!')\n",
        "  return [df, centroids]"
      ],
      "execution_count": 0,
      "outputs": []
    },
    {
      "cell_type": "markdown",
      "metadata": {
        "id": "fOGOpIoagLPt",
        "colab_type": "text"
      },
      "source": [
        "Enter the number of divisions as the K variable and run the clustering algorithm. The algorithm will try to find the smallest total distance. The centroid is the group (division number) and the pt2centroid is the distance from it. "
      ]
    },
    {
      "cell_type": "code",
      "metadata": {
        "id": "35EdfbP1gJKr",
        "colab_type": "code",
        "outputId": "fe7ffdfb-102f-48da-abb4-26fb22b15a26",
        "cellView": "both",
        "colab": {
          "base_uri": "https://localhost:8080/",
          "height": 646
        }
      },
      "source": [
        "k = 50  #@param\n",
        "\n",
        "feature_cols = athlete_data_toCluster.columns.values  # save original columns\n",
        "# initialize every point to an impossible value, the k+1 cluster\n",
        "athlete_data_toCluster['centroid'] = k\n",
        "# init the point to centroid distance to an impossible value \"2\" (>1)\n",
        "athlete_data_toCluster['pt2centroid'] = 2\n",
        "[athlete_data_toCluster, centroids] = kmeans(athlete_data_toCluster, k, feature_cols, 1)\n",
        "print(\"Data for the first few athletess, with 'centroid' and 'pt2centroid' on\"\n",
        "      ' the extreme right:')\n",
        "athlete_data_toCluster.head()"
      ],
      "execution_count": 0,
      "outputs": [
        {
          "output_type": "stream",
          "text": [
            "Total distance:239.65585055254854\n",
            "Total distance:217.54045645342688\n",
            "Total distance:206.13268966590297\n",
            "Total distance:200.70875299464598\n",
            "k-means converged for 50 clusters after 4 iterations!\n",
            "Data for the first few athletess, with 'centroid' and 'pt2centroid' on the extreme right:\n"
          ],
          "name": "stdout"
        },
        {
          "output_type": "execute_result",
          "data": {
            "text/html": [
              "<div>\n",
              "<style scoped>\n",
              "    .dataframe tbody tr th:only-of-type {\n",
              "        vertical-align: middle;\n",
              "    }\n",
              "\n",
              "    .dataframe tbody tr th {\n",
              "        vertical-align: top;\n",
              "    }\n",
              "\n",
              "    .dataframe thead th {\n",
              "        text-align: right;\n",
              "    }\n",
              "</style>\n",
              "<table border=\"1\" class=\"dataframe\">\n",
              "  <thead>\n",
              "    <tr style=\"text-align: right;\">\n",
              "      <th></th>\n",
              "      <th>Weight</th>\n",
              "      <th>Belt</th>\n",
              "      <th>Age</th>\n",
              "      <th>Gender</th>\n",
              "      <th>centroid</th>\n",
              "      <th>pt2centroid</th>\n",
              "    </tr>\n",
              "  </thead>\n",
              "  <tbody>\n",
              "    <tr>\n",
              "      <th>0</th>\n",
              "      <td>150.00</td>\n",
              "      <td>20</td>\n",
              "      <td>15</td>\n",
              "      <td>0</td>\n",
              "      <td>2</td>\n",
              "      <td>2.64</td>\n",
              "    </tr>\n",
              "    <tr>\n",
              "      <th>1</th>\n",
              "      <td>127.00</td>\n",
              "      <td>20</td>\n",
              "      <td>18</td>\n",
              "      <td>0</td>\n",
              "      <td>15</td>\n",
              "      <td>0.61</td>\n",
              "    </tr>\n",
              "    <tr>\n",
              "      <th>2</th>\n",
              "      <td>155.00</td>\n",
              "      <td>20</td>\n",
              "      <td>15</td>\n",
              "      <td>0</td>\n",
              "      <td>2</td>\n",
              "      <td>1.41</td>\n",
              "    </tr>\n",
              "    <tr>\n",
              "      <th>3</th>\n",
              "      <td>90.00</td>\n",
              "      <td>20</td>\n",
              "      <td>14</td>\n",
              "      <td>0</td>\n",
              "      <td>11</td>\n",
              "      <td>1.05</td>\n",
              "    </tr>\n",
              "    <tr>\n",
              "      <th>4</th>\n",
              "      <td>142.00</td>\n",
              "      <td>20</td>\n",
              "      <td>16</td>\n",
              "      <td>0</td>\n",
              "      <td>10</td>\n",
              "      <td>0.56</td>\n",
              "    </tr>\n",
              "    <tr>\n",
              "      <th>5</th>\n",
              "      <td>140.00</td>\n",
              "      <td>20</td>\n",
              "      <td>17</td>\n",
              "      <td>0</td>\n",
              "      <td>10</td>\n",
              "      <td>0.63</td>\n",
              "    </tr>\n",
              "    <tr>\n",
              "      <th>6</th>\n",
              "      <td>114.00</td>\n",
              "      <td>20</td>\n",
              "      <td>39</td>\n",
              "      <td>0</td>\n",
              "      <td>27</td>\n",
              "      <td>3.65</td>\n",
              "    </tr>\n",
              "    <tr>\n",
              "      <th>...</th>\n",
              "      <td>...</td>\n",
              "      <td>...</td>\n",
              "      <td>...</td>\n",
              "      <td>...</td>\n",
              "      <td>...</td>\n",
              "      <td>...</td>\n",
              "    </tr>\n",
              "    <tr>\n",
              "      <th>157</th>\n",
              "      <td>44.00</td>\n",
              "      <td>0</td>\n",
              "      <td>5</td>\n",
              "      <td>1</td>\n",
              "      <td>6</td>\n",
              "      <td>0.71</td>\n",
              "    </tr>\n",
              "    <tr>\n",
              "      <th>158</th>\n",
              "      <td>40.00</td>\n",
              "      <td>0</td>\n",
              "      <td>6</td>\n",
              "      <td>1</td>\n",
              "      <td>6</td>\n",
              "      <td>0.60</td>\n",
              "    </tr>\n",
              "    <tr>\n",
              "      <th>159</th>\n",
              "      <td>72.00</td>\n",
              "      <td>0</td>\n",
              "      <td>9</td>\n",
              "      <td>1</td>\n",
              "      <td>0</td>\n",
              "      <td>0.83</td>\n",
              "    </tr>\n",
              "    <tr>\n",
              "      <th>160</th>\n",
              "      <td>49.00</td>\n",
              "      <td>0</td>\n",
              "      <td>7</td>\n",
              "      <td>1</td>\n",
              "      <td>7</td>\n",
              "      <td>0.18</td>\n",
              "    </tr>\n",
              "    <tr>\n",
              "      <th>161</th>\n",
              "      <td>120.00</td>\n",
              "      <td>0</td>\n",
              "      <td>10</td>\n",
              "      <td>1</td>\n",
              "      <td>13</td>\n",
              "      <td>2.05</td>\n",
              "    </tr>\n",
              "    <tr>\n",
              "      <th>162</th>\n",
              "      <td>55.00</td>\n",
              "      <td>0</td>\n",
              "      <td>7</td>\n",
              "      <td>1</td>\n",
              "      <td>46</td>\n",
              "      <td>0.00</td>\n",
              "    </tr>\n",
              "    <tr>\n",
              "      <th>163</th>\n",
              "      <td>49.00</td>\n",
              "      <td>0</td>\n",
              "      <td>6</td>\n",
              "      <td>1</td>\n",
              "      <td>7</td>\n",
              "      <td>0.18</td>\n",
              "    </tr>\n",
              "  </tbody>\n",
              "</table>\n",
              "<p>164 rows × 6 columns</p>\n",
              "</div>"
            ],
            "text/plain": [
              "     Weight  Belt  Age  Gender  centroid  pt2centroid\n",
              "0    150.00    20   15       0         2         2.64\n",
              "1    127.00    20   18       0        15         0.61\n",
              "2    155.00    20   15       0         2         1.41\n",
              "3     90.00    20   14       0        11         1.05\n",
              "4    142.00    20   16       0        10         0.56\n",
              "5    140.00    20   17       0        10         0.63\n",
              "6    114.00    20   39       0        27         3.65\n",
              "..      ...   ...  ...     ...       ...          ...\n",
              "157   44.00     0    5       1         6         0.71\n",
              "158   40.00     0    6       1         6         0.60\n",
              "159   72.00     0    9       1         0         0.83\n",
              "160   49.00     0    7       1         7         0.18\n",
              "161  120.00     0   10       1        13         2.05\n",
              "162   55.00     0    7       1        46         0.00\n",
              "163   49.00     0    6       1         7         0.18\n",
              "\n",
              "[164 rows x 6 columns]"
            ]
          },
          "metadata": {
            "tags": []
          },
          "execution_count": 15
        }
      ]
    },
    {
      "cell_type": "markdown",
      "metadata": {
        "id": "CS2jt74JTcIF",
        "colab_type": "text"
      },
      "source": [
        "Final cleanup - add back in the Name and School columns, download the output.csv file, and delete the athletes.csv. "
      ]
    },
    {
      "cell_type": "code",
      "metadata": {
        "id": "XE4wJFizilxa",
        "colab_type": "code",
        "outputId": "daf0a2bf-8ab5-4112-b752-d31eca0853e7",
        "colab": {
          "base_uri": "https://localhost:8080/",
          "height": 243
        }
      },
      "source": [
        "athlete_data_toCluster['Name'] = athlete_data[\"Name\"]\n",
        "athlete_data_toCluster['School'] = athlete_data[\"School\"]\n",
        "\n",
        "from google.colab import files\n",
        "athlete_data_toCluster.to_csv('output.csv') \n",
        "files.download('output.csv')\n",
        "!rm athletes.csv\n",
        "!rm output.csv"
      ],
      "execution_count": 0,
      "outputs": [
        {
          "output_type": "error",
          "ename": "NameError",
          "evalue": "ignored",
          "traceback": [
            "\u001b[0;31m---------------------------------------------------------------------------\u001b[0m",
            "\u001b[0;31mNameError\u001b[0m                                 Traceback (most recent call last)",
            "\u001b[0;32m<ipython-input-5-7757a5313d4b>\u001b[0m in \u001b[0;36m<module>\u001b[0;34m()\u001b[0m\n\u001b[0;32m----> 1\u001b[0;31m \u001b[0mathlete_data_toCluster\u001b[0m\u001b[0;34m[\u001b[0m\u001b[0;34m'Name'\u001b[0m\u001b[0;34m]\u001b[0m \u001b[0;34m=\u001b[0m \u001b[0mathlete_data\u001b[0m\u001b[0;34m[\u001b[0m\u001b[0;34m\"Name\"\u001b[0m\u001b[0;34m]\u001b[0m\u001b[0;34m\u001b[0m\u001b[0;34m\u001b[0m\u001b[0m\n\u001b[0m\u001b[1;32m      2\u001b[0m \u001b[0mathlete_data_toCluster\u001b[0m\u001b[0;34m[\u001b[0m\u001b[0;34m'School'\u001b[0m\u001b[0;34m]\u001b[0m \u001b[0;34m=\u001b[0m \u001b[0mathlete_data\u001b[0m\u001b[0;34m[\u001b[0m\u001b[0;34m\"School\"\u001b[0m\u001b[0;34m]\u001b[0m\u001b[0;34m\u001b[0m\u001b[0;34m\u001b[0m\u001b[0m\n\u001b[1;32m      3\u001b[0m \u001b[0;34m\u001b[0m\u001b[0m\n\u001b[1;32m      4\u001b[0m \u001b[0;32mfrom\u001b[0m \u001b[0mgoogle\u001b[0m\u001b[0;34m.\u001b[0m\u001b[0mcolab\u001b[0m \u001b[0;32mimport\u001b[0m \u001b[0mfiles\u001b[0m\u001b[0;34m\u001b[0m\u001b[0;34m\u001b[0m\u001b[0m\n\u001b[1;32m      5\u001b[0m \u001b[0mathlete_data_toCluster\u001b[0m\u001b[0;34m.\u001b[0m\u001b[0mto_csv\u001b[0m\u001b[0;34m(\u001b[0m\u001b[0;34m'output.csv'\u001b[0m\u001b[0;34m)\u001b[0m\u001b[0;34m\u001b[0m\u001b[0;34m\u001b[0m\u001b[0m\n",
            "\u001b[0;31mNameError\u001b[0m: name 'athlete_data_toCluster' is not defined"
          ]
        }
      ]
    },
    {
      "cell_type": "code",
      "metadata": {
        "id": "WHDBQO_km7Hy",
        "colab_type": "code",
        "colab": {}
      },
      "source": [
        ""
      ],
      "execution_count": 0,
      "outputs": []
    }
  ]
}